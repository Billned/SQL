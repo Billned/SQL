{
 "cells": [
  {
   "cell_type": "code",
   "execution_count": 4,
   "metadata": {},
   "outputs": [],
   "source": [
    "# Import necessary modules\n",
    "from sqlalchemy import create_engine\n",
    "from sqlalchemy.engine import URL\n",
    "from urllib.parse import unquote\n",
    "from sqlalchemy import text\n",
    "import pandas as pd"
   ]
  },
  {
   "cell_type": "code",
   "execution_count": 7,
   "metadata": {},
   "outputs": [
    {
     "name": "stdout",
     "output_type": "stream",
     "text": [
      "Connecting to database using URL string:\n",
      "mssql+pyodbc://?odbc_connect=DRIVER=ODBC+Driver+17+for+SQL+Server;SERVER=localhost;DATABASE=BokhandelDB;Trusted_Connection=yes \n",
      "\n",
      "Successfully connected to BokhandelDB!\n"
     ]
    }
   ],
   "source": [
    "# Define server name and database name\n",
    "server_name   = \"localhost\"  # Change this to the actual server name\n",
    "database_name = \"BokhandelDB\"   # Change this to the actual database name\n",
    "\n",
    "# Construct connection string for SQL Server\n",
    "connection_string = f\"DRIVER=ODBC Driver 17 for SQL Server;SERVER={server_name};DATABASE={database_name};Trusted_Connection=yes\"\n",
    "# Create URL string for SQLAlchemy engine\n",
    "url_string        = URL.create(\"mssql+pyodbc\", query={\"odbc_connect\": connection_string})\n",
    "\n",
    "# Display the URL string after decoding\n",
    "print('Connecting to database using URL string:')\n",
    "unquoted_url = unquote(str(url_string))\n",
    "print(unquoted_url, '\\n')\n",
    "\n",
    "try: # Create engine and connect to the database  \n",
    "    engine = create_engine(url_string)\n",
    "    with engine.connect() as connection:\n",
    "        print(f'Successfully connected to {database_name}!')\n",
    "except Exception as e:\n",
    "    # Handle connection error\n",
    "    print('Error while connecting to database:\\n')\n",
    "    print(e)\n"
   ]
  },
  {
   "cell_type": "code",
   "execution_count": 9,
   "metadata": {},
   "outputs": [],
   "source": [
    "def execute_stored_procedure(title, connection):\n",
    "     # Define the query to execute the stored procedure\n",
    "    query = text(\"\"\"EXECUTE LetaBok :title\"\"\") \n",
    "      # Execute the stored procedure with the provided title parameter\n",
    "    results = connection.execute(query, {'title': f'%{title}%'}).fetchall() \n",
    "    # Return the results\n",
    "    return results\n",
    "\n",
    "def search_book():  # Prompt user to enter a book title for search\n",
    "    title = input(\"Search for a book: \").strip()\n",
    "    \n",
    "    # Connect to the database engine\n",
    "    with engine.connect() as connection:\n",
    "         # Execute the stored procedure to search for books\n",
    "        results = execute_stored_procedure(title, connection) \n",
    "        \n",
    "        # Convert the results into a DataFrame for easy manipulation\n",
    "        df = pd.DataFrame(results, columns = [\"Title\", \"Store\", \"Quantity\"]) \n",
    "        \n",
    "         # Display the number of results found\n",
    "        print(f\"Search for \\\"{title}\\\" gave {len(df)} results.\")\n",
    "        \n",
    "          # If results are found, display them\n",
    "        if len(df) > 0:\n",
    "            display(df)            "
   ]
  },
  {
   "cell_type": "code",
   "execution_count": 13,
   "metadata": {},
   "outputs": [
    {
     "name": "stdout",
     "output_type": "stream",
     "text": [
      "Search for \"Kafka\" gave 1 results.\n"
     ]
    },
    {
     "data": {
      "text/html": [
       "<div>\n",
       "<style scoped>\n",
       "    .dataframe tbody tr th:only-of-type {\n",
       "        vertical-align: middle;\n",
       "    }\n",
       "\n",
       "    .dataframe tbody tr th {\n",
       "        vertical-align: top;\n",
       "    }\n",
       "\n",
       "    .dataframe thead th {\n",
       "        text-align: right;\n",
       "    }\n",
       "</style>\n",
       "<table border=\"1\" class=\"dataframe\">\n",
       "  <thead>\n",
       "    <tr style=\"text-align: right;\">\n",
       "      <th></th>\n",
       "      <th>Title</th>\n",
       "      <th>Store</th>\n",
       "      <th>Quantity</th>\n",
       "    </tr>\n",
       "  </thead>\n",
       "  <tbody>\n",
       "    <tr>\n",
       "      <th>0</th>\n",
       "      <td>Kafka on the Shore</td>\n",
       "      <td>Boklunden</td>\n",
       "      <td>2</td>\n",
       "    </tr>\n",
       "  </tbody>\n",
       "</table>\n",
       "</div>"
      ],
      "text/plain": [
       "                Title      Store  Quantity\n",
       "0  Kafka on the Shore  Boklunden         2"
      ]
     },
     "metadata": {},
     "output_type": "display_data"
    }
   ],
   "source": [
    "# Function to search for a book title in the database and display results, handling potential misspellings\n",
    "search_book()\n"
   ]
  }
 ],
 "metadata": {
  "kernelspec": {
   "display_name": "Python 3",
   "language": "python",
   "name": "python3"
  },
  "language_info": {
   "codemirror_mode": {
    "name": "ipython",
    "version": 3
   },
   "file_extension": ".py",
   "mimetype": "text/x-python",
   "name": "python",
   "nbconvert_exporter": "python",
   "pygments_lexer": "ipython3",
   "version": "3.12.2"
  }
 },
 "nbformat": 4,
 "nbformat_minor": 2
}
